{
 "cells": [
  {
   "cell_type": "markdown",
   "metadata": {},
   "source": [
    "# NLU - First Assignment\n",
    "\n",
    "- Student: Ziglio Riccardo\n",
    "- Student Number: 224285"
   ]
  },
  {
   "cell_type": "markdown",
   "metadata": {},
   "source": [
    "This notebook contains the solution for the first assignment of the NLU course.\n",
    "\n"
   ]
  },
  {
   "cell_type": "markdown",
   "metadata": {},
   "source": [
    "\n",
    "\n",
    "# Dependency Parsing Visualizer"
   ]
  },
  {
   "cell_type": "markdown",
   "metadata": {},
   "source": [
    "In this first cell I've reported the dependency parsing visualization (using the displacy library of Spacy) of the sentence used in the assignment for testing the code."
   ]
  },
  {
   "cell_type": "code",
   "execution_count": 2,
   "metadata": {},
   "outputs": [
    {
     "data": {
      "text/html": [
       "<span class=\"tex2jax_ignore\"><svg xmlns=\"http://www.w3.org/2000/svg\" xmlns:xlink=\"http://www.w3.org/1999/xlink\" xml:lang=\"en\" id=\"1388ed443f3744a5bf91a84e7fe496f9-0\" class=\"displacy\" width=\"1275\" height=\"399.5\" direction=\"ltr\" style=\"max-width: none; height: 399.5px; color: #000000; background: #ffffff; font-family: Arial; direction: ltr\">\n",
       "<text class=\"displacy-token\" fill=\"currentColor\" text-anchor=\"middle\" y=\"309.5\">\n",
       "    <tspan class=\"displacy-word\" fill=\"currentColor\" x=\"50\">I</tspan>\n",
       "    <tspan class=\"displacy-tag\" dy=\"2em\" fill=\"currentColor\" x=\"50\">PRON</tspan>\n",
       "</text>\n",
       "\n",
       "<text class=\"displacy-token\" fill=\"currentColor\" text-anchor=\"middle\" y=\"309.5\">\n",
       "    <tspan class=\"displacy-word\" fill=\"currentColor\" x=\"225\">saw</tspan>\n",
       "    <tspan class=\"displacy-tag\" dy=\"2em\" fill=\"currentColor\" x=\"225\">VERB</tspan>\n",
       "</text>\n",
       "\n",
       "<text class=\"displacy-token\" fill=\"currentColor\" text-anchor=\"middle\" y=\"309.5\">\n",
       "    <tspan class=\"displacy-word\" fill=\"currentColor\" x=\"400\">the</tspan>\n",
       "    <tspan class=\"displacy-tag\" dy=\"2em\" fill=\"currentColor\" x=\"400\">DET</tspan>\n",
       "</text>\n",
       "\n",
       "<text class=\"displacy-token\" fill=\"currentColor\" text-anchor=\"middle\" y=\"309.5\">\n",
       "    <tspan class=\"displacy-word\" fill=\"currentColor\" x=\"575\">man</tspan>\n",
       "    <tspan class=\"displacy-tag\" dy=\"2em\" fill=\"currentColor\" x=\"575\">NOUN</tspan>\n",
       "</text>\n",
       "\n",
       "<text class=\"displacy-token\" fill=\"currentColor\" text-anchor=\"middle\" y=\"309.5\">\n",
       "    <tspan class=\"displacy-word\" fill=\"currentColor\" x=\"750\">with</tspan>\n",
       "    <tspan class=\"displacy-tag\" dy=\"2em\" fill=\"currentColor\" x=\"750\">ADP</tspan>\n",
       "</text>\n",
       "\n",
       "<text class=\"displacy-token\" fill=\"currentColor\" text-anchor=\"middle\" y=\"309.5\">\n",
       "    <tspan class=\"displacy-word\" fill=\"currentColor\" x=\"925\">a</tspan>\n",
       "    <tspan class=\"displacy-tag\" dy=\"2em\" fill=\"currentColor\" x=\"925\">DET</tspan>\n",
       "</text>\n",
       "\n",
       "<text class=\"displacy-token\" fill=\"currentColor\" text-anchor=\"middle\" y=\"309.5\">\n",
       "    <tspan class=\"displacy-word\" fill=\"currentColor\" x=\"1100\">telescope</tspan>\n",
       "    <tspan class=\"displacy-tag\" dy=\"2em\" fill=\"currentColor\" x=\"1100\">NOUN</tspan>\n",
       "</text>\n",
       "\n",
       "<g class=\"displacy-arrow\">\n",
       "    <path class=\"displacy-arc\" id=\"arrow-1388ed443f3744a5bf91a84e7fe496f9-0-0\" stroke-width=\"2px\" d=\"M70,264.5 C70,177.0 215.0,177.0 215.0,264.5\" fill=\"none\" stroke=\"currentColor\"/>\n",
       "    <text dy=\"1.25em\" style=\"font-size: 0.8em; letter-spacing: 1px\">\n",
       "        <textPath xlink:href=\"#arrow-1388ed443f3744a5bf91a84e7fe496f9-0-0\" class=\"displacy-label\" startOffset=\"50%\" side=\"left\" fill=\"currentColor\" text-anchor=\"middle\">nsubj</textPath>\n",
       "    </text>\n",
       "    <path class=\"displacy-arrowhead\" d=\"M70,266.5 L62,254.5 78,254.5\" fill=\"currentColor\"/>\n",
       "</g>\n",
       "\n",
       "<g class=\"displacy-arrow\">\n",
       "    <path class=\"displacy-arc\" id=\"arrow-1388ed443f3744a5bf91a84e7fe496f9-0-1\" stroke-width=\"2px\" d=\"M420,264.5 C420,177.0 565.0,177.0 565.0,264.5\" fill=\"none\" stroke=\"currentColor\"/>\n",
       "    <text dy=\"1.25em\" style=\"font-size: 0.8em; letter-spacing: 1px\">\n",
       "        <textPath xlink:href=\"#arrow-1388ed443f3744a5bf91a84e7fe496f9-0-1\" class=\"displacy-label\" startOffset=\"50%\" side=\"left\" fill=\"currentColor\" text-anchor=\"middle\">det</textPath>\n",
       "    </text>\n",
       "    <path class=\"displacy-arrowhead\" d=\"M420,266.5 L412,254.5 428,254.5\" fill=\"currentColor\"/>\n",
       "</g>\n",
       "\n",
       "<g class=\"displacy-arrow\">\n",
       "    <path class=\"displacy-arc\" id=\"arrow-1388ed443f3744a5bf91a84e7fe496f9-0-2\" stroke-width=\"2px\" d=\"M245,264.5 C245,89.5 570.0,89.5 570.0,264.5\" fill=\"none\" stroke=\"currentColor\"/>\n",
       "    <text dy=\"1.25em\" style=\"font-size: 0.8em; letter-spacing: 1px\">\n",
       "        <textPath xlink:href=\"#arrow-1388ed443f3744a5bf91a84e7fe496f9-0-2\" class=\"displacy-label\" startOffset=\"50%\" side=\"left\" fill=\"currentColor\" text-anchor=\"middle\">dobj</textPath>\n",
       "    </text>\n",
       "    <path class=\"displacy-arrowhead\" d=\"M570.0,266.5 L578.0,254.5 562.0,254.5\" fill=\"currentColor\"/>\n",
       "</g>\n",
       "\n",
       "<g class=\"displacy-arrow\">\n",
       "    <path class=\"displacy-arc\" id=\"arrow-1388ed443f3744a5bf91a84e7fe496f9-0-3\" stroke-width=\"2px\" d=\"M245,264.5 C245,2.0 750.0,2.0 750.0,264.5\" fill=\"none\" stroke=\"currentColor\"/>\n",
       "    <text dy=\"1.25em\" style=\"font-size: 0.8em; letter-spacing: 1px\">\n",
       "        <textPath xlink:href=\"#arrow-1388ed443f3744a5bf91a84e7fe496f9-0-3\" class=\"displacy-label\" startOffset=\"50%\" side=\"left\" fill=\"currentColor\" text-anchor=\"middle\">prep</textPath>\n",
       "    </text>\n",
       "    <path class=\"displacy-arrowhead\" d=\"M750.0,266.5 L758.0,254.5 742.0,254.5\" fill=\"currentColor\"/>\n",
       "</g>\n",
       "\n",
       "<g class=\"displacy-arrow\">\n",
       "    <path class=\"displacy-arc\" id=\"arrow-1388ed443f3744a5bf91a84e7fe496f9-0-4\" stroke-width=\"2px\" d=\"M945,264.5 C945,177.0 1090.0,177.0 1090.0,264.5\" fill=\"none\" stroke=\"currentColor\"/>\n",
       "    <text dy=\"1.25em\" style=\"font-size: 0.8em; letter-spacing: 1px\">\n",
       "        <textPath xlink:href=\"#arrow-1388ed443f3744a5bf91a84e7fe496f9-0-4\" class=\"displacy-label\" startOffset=\"50%\" side=\"left\" fill=\"currentColor\" text-anchor=\"middle\">det</textPath>\n",
       "    </text>\n",
       "    <path class=\"displacy-arrowhead\" d=\"M945,266.5 L937,254.5 953,254.5\" fill=\"currentColor\"/>\n",
       "</g>\n",
       "\n",
       "<g class=\"displacy-arrow\">\n",
       "    <path class=\"displacy-arc\" id=\"arrow-1388ed443f3744a5bf91a84e7fe496f9-0-5\" stroke-width=\"2px\" d=\"M770,264.5 C770,89.5 1095.0,89.5 1095.0,264.5\" fill=\"none\" stroke=\"currentColor\"/>\n",
       "    <text dy=\"1.25em\" style=\"font-size: 0.8em; letter-spacing: 1px\">\n",
       "        <textPath xlink:href=\"#arrow-1388ed443f3744a5bf91a84e7fe496f9-0-5\" class=\"displacy-label\" startOffset=\"50%\" side=\"left\" fill=\"currentColor\" text-anchor=\"middle\">pobj</textPath>\n",
       "    </text>\n",
       "    <path class=\"displacy-arrowhead\" d=\"M1095.0,266.5 L1103.0,254.5 1087.0,254.5\" fill=\"currentColor\"/>\n",
       "</g>\n",
       "</svg></span>"
      ],
      "text/plain": [
       "<IPython.core.display.HTML object>"
      ]
     },
     "metadata": {},
     "output_type": "display_data"
    },
    {
     "name": "stdout",
     "output_type": "stream",
     "text": [
      "\n"
     ]
    }
   ],
   "source": [
    "import spacy\n",
    "from spacy import displacy #to visualize dependency parse\n",
    "sentence = \"I saw the man with a telescope\"\n",
    "#parsing of the sentence\n",
    "nlp = spacy.load(\"en_core_web_sm\")\n",
    "doc = nlp(sentence)\n",
    "displacy.render(doc, style=\"dep\", jupyter = True)\n",
    "print(\"\")"
   ]
  },
  {
   "cell_type": "markdown",
   "metadata": {},
   "source": [
    "# Exercise 1 - getDependencyPath function"
   ]
  },
  {
   "cell_type": "markdown",
   "metadata": {},
   "source": [
    "The first exercise required to find the path of depdency relations from the root to each token of the input sentence.\n",
    "To do that the head attribute of the token class have been used. This returns \"The syntactic parent, or “governor”, of this token\" (https://spacy.io/api/token). Since the root of the sentence is identified as the word which is its own head, or it has no arcs entering in it as the node \"saw\" in the dependency parsing graph reported before, the idea is to iterate over all the tokens of the sentence that are different from the head (\"saw\" in this case) and save their text and dependencies in a list called \"dependency\". As last element of this \"dependency\" list it was added the root element \"saw\". \n",
    "To display the root element as the first one of the list the \"dependency\" list has been copied in reverse order inside the \"paths\" list, which, as the name suggest, returns all the paths from the root to a token.\n",
    "\n",
    "The output of the function is in the following format: ['Root (token.text)', '-> token.text: token.dep_'].\n",
    "\n",
    "The cells below show the code of the described function and its application."
   ]
  },
  {
   "cell_type": "code",
   "execution_count": 13,
   "metadata": {},
   "outputs": [],
   "source": [
    "def getDependencyPath(sentence):\n",
    "    #parsing sentence\n",
    "    doc = nlp(sentence)\n",
    "    paths = []\n",
    "    for token in doc:\n",
    "        dependency = []  \n",
    "        while(token!=token.head): #check if word is not its own head --> not the root of the sentence\n",
    "            dependency.append(\" -> \" + token.text + \": \" + token.dep_)\n",
    "            token = token.head #to exit loop\n",
    "        #add root to list\n",
    "        dependency.append(\"ROOT \" + \"(\"+token.head.text+\")\") #add root as last element of list\n",
    "        paths.append(dependency[::-1]) #copy list in reverse order to have ROOT as first element\n",
    "    return paths "
   ]
  },
  {
   "cell_type": "code",
   "execution_count": 17,
   "metadata": {},
   "outputs": [
    {
     "name": "stdout",
     "output_type": "stream",
     "text": [
      "--------------------output getDependencyPath (function 1)--------------------\n",
      "\n",
      "[['ROOT (saw)', ' -> I: nsubj'], ['ROOT (saw)'], ['ROOT (saw)', ' -> man: dobj', ' -> the: det'], ['ROOT (saw)', ' -> man: dobj'], ['ROOT (saw)', ' -> with: prep'], ['ROOT (saw)', ' -> with: prep', ' -> telescope: pobj', ' -> a: det'], ['ROOT (saw)', ' -> with: prep', ' -> telescope: pobj']]\n",
      "\n"
     ]
    }
   ],
   "source": [
    "dependency_paths = getDependencyPath(sentence)\n",
    "print(\"--------------------output getDependencyPath (function 1)--------------------\\n\")\n",
    "print(dependency_paths)\n",
    "print(\"\")"
   ]
  },
  {
   "cell_type": "markdown",
   "metadata": {},
   "source": [
    "# Exercise 2 - getDependencySubtree function"
   ]
  },
  {
   "cell_type": "markdown",
   "metadata": {},
   "source": [
    "To obtain the depenceny subtree given a token, the token.subtree property has been used. This allows to obtain the whole phrase by its syntactic head, and returns an ordered sequence of tokens (https://spacy.io/usage/linguistic-features#dependency-parse). So, each node (called \"child\" in the function) in the token's subtree is added to the \"dependents\" list, which is then added to the \"subtree\" list in order to obtain the following format: [ token -> [token's subtree]].\n",
    "\n",
    "Notice that, for the definiton of subtree, which is:  \"A subtree of a tree T is a tree S consisting of a node in T and all of its descendants in T\" (https://www.quora.com/What-is-the-exact-and-easily-understandable-definition-of-a-subtree-Is-the-following-tree-S-the-subtree-of-T), the subtree of the root node \"saw\" is the whole tree, the whole sentence.\n",
    "\n",
    "The cells below show the code of the described function and its application."
   ]
  },
  {
   "cell_type": "code",
   "execution_count": 9,
   "metadata": {},
   "outputs": [],
   "source": [
    "def getDependencySubtree(sentence):\n",
    "    #parsing sentence\n",
    "    doc = nlp(sentence)\n",
    "    subtree = []\n",
    "    for token in doc:\n",
    "        dependents = []\n",
    "        for child in token.subtree: \n",
    "            #token.subtree -> returns a sequence containing the token and all the token’s syntactic descendants.\n",
    "            dependents.append(child.text)\n",
    "        subtree.append(token.text + \" -> \" + str(dependents))\n",
    "    return subtree"
   ]
  },
  {
   "cell_type": "code",
   "execution_count": 11,
   "metadata": {},
   "outputs": [
    {
     "name": "stdout",
     "output_type": "stream",
     "text": [
      "--------------------output function dep.subtree (function 2)--------------------\n",
      "\n",
      "[\"I -> ['I']\", \"saw -> ['I', 'saw', 'the', 'man', 'with', 'a', 'telescope']\", \"the -> ['the']\", \"man -> ['the', 'man']\", \"with -> ['with', 'a', 'telescope']\", \"a -> ['a']\", \"telescope -> ['a', 'telescope']\"]\n"
     ]
    }
   ],
   "source": [
    "dependency_subtree = getDependencySubtree(sentence)\n",
    "print(\"--------------------output function dep.subtree (function 2)--------------------\\n\")\n",
    "print(dependency_subtree)\n",
    "print(\"\")"
   ]
  },
  {
   "cell_type": "markdown",
   "metadata": {},
   "source": [
    "# Exercise 3 - isSubtree function"
   ]
  },
  {
   "cell_type": "markdown",
   "metadata": {},
   "source": [
    "To check if a given segment of a sentence forms a subtree, as in the previous function, the property token.subtree was used.\n",
    "For each token in the input sentence its subtree was detected, saved as a list of strings, and then added into a dictionary in the following format: [token.text]: [token's subtree]. \n",
    "So, i.e., for the sentence: \"I saw the man with the telescope\", the dicitonary will contain the following: ['with': ['with', 'a', 'telescope']] (so the \"with\" token is the id and the subtree of the \"with\" token is the value of the dictionary).\n",
    "\n",
    "Then, to check if the sequence of words given in input forms a subtree, is sufficient to check if there is a correspondence between the values inside the dictionary and the sequence of words. \n",
    "\n",
    "The cells below show the code of the described function and its application."
   ]
  },
  {
   "cell_type": "code",
   "execution_count": 5,
   "metadata": {},
   "outputs": [],
   "source": [
    "def isSubtree(sentence, squence_of_words):\n",
    "    #parsing sentence\n",
    "    doc = nlp(sentence)\n",
    "    dict = {}\n",
    "    \n",
    "    #find subtree for each token in the sequence of words\n",
    "    for token in doc:\n",
    "        childrens=[]\n",
    "        for descendents in token.subtree: \n",
    "            childrens.append(descendents.text)\n",
    "        dict[token.text] = childrens\n",
    "\n",
    "    #check if seq of words forms a subtre (if is inside dictionary generated from original sentence)\n",
    "    for word in squence_of_words:\n",
    "        if dict.get(word) == squence_of_words: #get value of \"word\" key -> ex. get('with') = [with, a, telescope]\n",
    "            return True\n",
    "    #end for\n",
    "    return False"
   ]
  },
  {
   "cell_type": "code",
   "execution_count": 15,
   "metadata": {},
   "outputs": [
    {
     "name": "stdout",
     "output_type": "stream",
     "text": [
      "--------------------output function isSubtree (function 3)--------------------\n",
      "\n",
      "['with', 'a', 'telescope']  IS a subtree of the sentence:  I saw the man with a telescope\n",
      "\n",
      "\n",
      "['I', 'saw', 'the', 'man']  IS NOT a subtree of the sentence:  I saw the man with a telescope\n"
     ]
    }
   ],
   "source": [
    "#test sequence of words\n",
    "seq_words1 = ['with', 'a', 'telescope'] #is a subtree\n",
    "#seq_words = ['I', 'man'] #not a subtree\n",
    "seq_words2 = ['I','saw', 'the', 'man'] #not a subtree (subtree of root, saw, is whole tree)\n",
    "\n",
    "print(\"--------------------output function isSubtree (function 3)--------------------\\n\")\n",
    "if isSubtree(sentence, seq_words1):\n",
    "    print(seq_words1, \" IS a subtree of the sentence: \", sentence)\n",
    "else: print(seq_words1, \" IS NOT a subtree of the sentence: \", sentence)\n",
    "print(\"\\n\")\n",
    "if isSubtree(sentence, seq_words2):\n",
    "    print(seq_words2, \" IS a subtree of the sentence: \", sentence)\n",
    "else: print(seq_words2, \" IS NOT a subtree of the sentence: \", sentence)\n",
    "print(\"\")"
   ]
  },
  {
   "cell_type": "markdown",
   "metadata": {},
   "source": [
    "# Exercise 4 - headOfSpan function"
   ]
  },
  {
   "cell_type": "markdown",
   "metadata": {},
   "source": [
    "To identify the head of a span given a sequence of words as input, is sufficient to use the Span.root property (https://spacy.io/api/span).\n",
    "As defined in the documentation of Spacy a span is a slice of a Doc object, which is a sequence of Token objects (so formed by one or more tokens, https://spacy.io/api/doc).\n",
    "\n",
    "In order to use the Span.root property is necessary to \"convert\" the input sentence into a span. This is done with the span = doc[start : end] instruction. \n",
    "\n",
    "The root is then returned by span.root.\n",
    "\n",
    "The cells below show the code of the described function and its application."
   ]
  },
  {
   "cell_type": "code",
   "execution_count": 12,
   "metadata": {},
   "outputs": [],
   "source": [
    "#function 4 -> Regarding point 4: it is about correct usage of Span.root.\n",
    "def headOfSpan(sentence):\n",
    "    #parsing sentence\n",
    "    doc = nlp(sentence)\n",
    "    span = doc[:] #span --> slice of a sentence; a sequence of tokens (1 or more token)\n",
    "    print(\"span: \", span) #the man with a telescope -> head = man\n",
    "    return span.root  \n",
    "    #span.root -> The token with the shortest path to the root of the sentence \n",
    "    #(or the root itself). If multiple tokens are equally high in the tree, the first token is taken."
   ]
  },
  {
   "cell_type": "code",
   "execution_count": 13,
   "metadata": {},
   "outputs": [
    {
     "name": "stdout",
     "output_type": "stream",
     "text": [
      "--------------------output function headOfSpan (function 4)--------------------\n",
      "span:  the man with\n",
      "head of span:  man\n"
     ]
    }
   ],
   "source": [
    "print(\"--------------------output function headOfSpan (function 4)--------------------\\n\")\n",
    "span = \"the man with\"\n",
    "print(\"head of span: \", headOfSpan(span))\n",
    "print(\"\")"
   ]
  },
  {
   "cell_type": "markdown",
   "metadata": {},
   "source": [
    "# Exercise 5 - extractSentenceSpan function"
   ]
  },
  {
   "cell_type": "markdown",
   "metadata": {},
   "source": [
    "To extract the sentence subject, direct object and indirect object spans the idea is to iterate over each token in the sentence, then for each token's children (the immediate syntactic dependents of the token) check if its depdendency is one between: \n",
    "- \"dobj\" for direct object, \n",
    "- \"nsubj\" for nominal subject, \n",
    "- \"dative\" for indirect object (in spacy dative is used instead of iobj, as shown here: https://github.com/clir/clearnlp-guidelines/blob/master/md/specifications/dependency_labels.md).\n",
    "\n",
    "In order to extract the determinant connected with the object (i.e. to extract \"the man\" instead of \"man\" as direct object in the sentence \"I saw the man\"), iterate over the token's children and check the sequences of syntactic children that occur before the token (in sentence order) with token.lefts (https://spacy.io/usage/linguistic-features#dependency-parse).\n",
    "\n",
    "I have used token.lefts because determiners appear before nouns, so on their left (i.e \"the man\"; https://dictionary.cambridge.org/it/grammatica/grammatica-britannico/determiners-the-my-some-this).\n",
    "\n",
    "In the code is also reported (as a comment) the same version of the function without the detection of the object's determiner.\n",
    "\n",
    "The cells below show the code of the described function and its application."
   ]
  },
  {
   "cell_type": "code",
   "execution_count": 15,
   "metadata": {},
   "outputs": [],
   "source": [
    "def extractSentenceSpan(sentence):\n",
    "    #parsing sentence\n",
    "    doc = nlp(sentence)\n",
    "    relationships_dict = {}\n",
    "    subjList = []\n",
    "    dobjList = []\n",
    "    iobjList = []\n",
    "\n",
    "    #version without the determiner of object (ex. \"man\" instead of \"the man\" for the sentence \"I saw the man.\")\n",
    "    # for token in doc:\n",
    "    #     if token.dep_ == \"nsubj\":\n",
    "    #         subjList.append(token.text)\n",
    "    #     if token.dep_ == \"dobj\":\n",
    "    #         dobjList.append(token.text)\n",
    "    #     if token.dep_ == \"dative\":\n",
    "    #         iobjList.append(token.text)\n",
    "            \n",
    "    for token in doc:\n",
    "        for child in token.children:\n",
    "            #to find dep of object using children.lefts -> see what dep of child are on the left (ex. the man)\n",
    "            if child.dep_ == \"dobj\":\n",
    "                for objects in child.lefts: \n",
    "                    #look for determier of object -> ex. the man\n",
    "                   dobjList.append(objects.text) #the\n",
    "                dobjList.append(child.text) #man\n",
    "            if child.dep_ == \"nsubj\" or child.dep_ == \"subj\": \n",
    "                subjList.append(child.text\n",
    "            if child.dep_ == \"dative\": #in spacy dative is used instead of iobj\n",
    "                for objects in child.lefts:\n",
    "                    iobjList.append(objects.text)\n",
    "                iobjList.append(child.text) \n",
    "    \n",
    "    relationships_dict[\"subj\"] = subjList \n",
    "    relationships_dict[\"dep. obj\"] = dobjList \n",
    "    relationships_dict[\"indep. obj\"] = iobjList\n",
    "\n",
    "    return relationships_dict"
   ]
  },
  {
   "cell_type": "code",
   "execution_count": 16,
   "metadata": {},
   "outputs": [
    {
     "name": "stdout",
     "output_type": "stream",
     "text": [
      "--------------------output function extracteSentenceSpan (function 5)--------------------\n",
      "{'subj': ['I'], 'dep. obj': ['the', 'man'], 'indep. obj': []}\n"
     ]
    }
   ],
   "source": [
    "#sentence = \"I saw the man with a telescope\"\n",
    "print(\"--------------------output function extracteSentenceSpan (function 5)--------------------\")\n",
    "print(extractSentenceSpan(sentence))"
   ]
  }
 ],
 "metadata": {
  "kernelspec": {
   "display_name": "Python 3",
   "language": "python",
   "name": "python3"
  },
  "language_info": {
   "codemirror_mode": {
    "name": "ipython",
    "version": 3
   },
   "file_extension": ".py",
   "mimetype": "text/x-python",
   "name": "python",
   "nbconvert_exporter": "python",
   "pygments_lexer": "ipython3",
   "version": "3.8.5"
  }
 },
 "nbformat": 4,
 "nbformat_minor": 4
}
